{
 "cells": [
  {
   "cell_type": "code",
   "execution_count": 42,
   "metadata": {},
   "outputs": [],
   "source": [
    "import streamlit as st\n",
    "import requests"
   ]
  },
  {
   "cell_type": "code",
   "execution_count": 43,
   "metadata": {},
   "outputs": [],
   "source": [
    "# Base URL for the Flask backend\n",
    "backend_base_url = \"http://b1b7-34-72-252-158.ngrok-free.app\""
   ]
  },
  {
   "cell_type": "code",
   "execution_count": 44,
   "metadata": {},
   "outputs": [],
   "source": [
    "st.set_page_config(page_title=\"Guten-bot\", page_icon=\"📚\",layout=\"wide\")\n"
   ]
  },
  {
   "cell_type": "code",
   "execution_count": 45,
   "metadata": {},
   "outputs": [],
   "source": [
    "def local_css(file_name):\n",
    "    with open(file_name) as f:\n",
    "        st.markdown(f'<style>{f.read()}</style>', unsafe_allow_html=True)\n",
    "\n",
    "local_css(\"style\\style.css\")"
   ]
  },
  {
   "cell_type": "code",
   "execution_count": 46,
   "metadata": {},
   "outputs": [
    {
     "data": {
      "text/plain": [
       "DeltaGenerator()"
      ]
     },
     "execution_count": 46,
     "metadata": {},
     "output_type": "execute_result"
    }
   ],
   "source": [
    "# Center-align the user input text\n",
    "st.markdown(\"\"\"\n",
    "    <style>\n",
    "    input {text-align: center;}\n",
    "    </style>\n",
    "\"\"\", unsafe_allow_html=True)"
   ]
  },
  {
   "cell_type": "code",
   "execution_count": 47,
   "metadata": {},
   "outputs": [],
   "source": [
    "# HEAD SESSION\n",
    "with st.container():\n",
    "    st.subheader(\"Welcom To This Guten-bot :wave:\")\n",
    "    st.title(\"Classic Book Summarization\")\n",
    "    st.write(\"[available books >>](https://www.gutenberg.org/)\")\n"
   ]
  },
  {
   "cell_type": "code",
   "execution_count": 48,
   "metadata": {},
   "outputs": [],
   "source": [
    "# get summary and get answer\n",
    "with st.container():\n",
    "    st.write(\"---\")\n",
    "    # User input for book name and query\n",
    "    # book_name = st.text_input(\"Enter the name of the book:\")\n",
    "    left, right = st.columns((2,1))\n",
    "    with left:\n",
    "        st.markdown(\"#### Enter the name of the book:\")\n",
    "        book_name = st.text_input(\" \")\n",
    "        if book_name:            \n",
    "            option = st.selectbox(\"Select an option:\", [\"Get Summary\", \"Get Answer\"])\n",
    "\n",
    "            if option == \"Get Summary\":\n",
    "                # Button to get book summary\n",
    "                if st.button(\"Get Summary\"):\n",
    "                    response = requests.post(f\"{backend_base_url}/get_summary\", json={\"book_name\": book_name})\n",
    "                    book_summary = response.json().get(\"book_summary\")\n",
    "                    st.write(f\"**Book Summary:** {book_summary}\")\n",
    "            elif option == \"Get Answer\":\n",
    "                # User input for query\n",
    "                # query = st.text_input(\"Enter your query:\")\n",
    "                st.markdown(\"#### Enter your query:\")\n",
    "                query = st.text_input(\"  \")\n",
    "\n",
    "                # Button to get answer\n",
    "                if st.button(\"Get Answer\"):\n",
    "                    \n",
    "                    if not query:\n",
    "                        st.write(\"Please enter your query.\")\n",
    "                    else:\n",
    "                        response = requests.post(f\"{backend_base_url}/get_answer\", json={\"query\": query})\n",
    "                        answer = response.json().get(\"answer\")\n",
    "                        st.write(f\"Answer: {answer}\")\n",
    "        else:\n",
    "            st.write(\"Please enter the name of the book to continue.\")\n"
   ]
  },
  {
   "cell_type": "code",
   "execution_count": 49,
   "metadata": {},
   "outputs": [],
   "source": [
    "with st.container():\n",
    "    st.write(\"---\")\n",
    "    st.header(\"Get in touch with us :book:\")\n",
    "    st.write(\"##\")\n",
    "\n",
    "    # from https://formsubmit.co/\n",
    "    contect_form = \"\"\"\n",
    "    <form action=\"https://formsubmit.co/shabthana.20@cse.mrt.ac.lk\" method=\"POST\"> # change the e-mail address if you want\n",
    "        <input type=\"hidden\" name=\"_captcha\" value=\"false\">\n",
    "        <input type=\"text\" name=\"name\" placeholder=\"your name\" required>\n",
    "        <input type=\"email\" name=\"email\" placeholder=\"your email\" required>\n",
    "        <textarea name=\"feedback\" style=\"text-align: center;\" placeholder=\"Your message\" required></textarea>\n",
    "        <button type=\"submit\">Send</button>\n",
    "    </form>\n",
    "    \"\"\"\n",
    "\n",
    "left_column, right_column = st.columns(2)\n",
    "with left_column:\n",
    "    st.markdown(contect_form, unsafe_allow_html=True)\n",
    "with right_column:\n",
    "    st.empty()"
   ]
  },
  {
   "cell_type": "code",
   "execution_count": null,
   "metadata": {},
   "outputs": [],
   "source": []
  },
  {
   "cell_type": "code",
   "execution_count": null,
   "metadata": {},
   "outputs": [],
   "source": []
  },
  {
   "cell_type": "code",
   "execution_count": null,
   "metadata": {},
   "outputs": [],
   "source": []
  },
  {
   "cell_type": "code",
   "execution_count": null,
   "metadata": {},
   "outputs": [],
   "source": []
  },
  {
   "cell_type": "code",
   "execution_count": null,
   "metadata": {},
   "outputs": [],
   "source": []
  }
 ],
 "metadata": {
  "kernelspec": {
   "display_name": "Python 3",
   "language": "python",
   "name": "python3"
  },
  "language_info": {
   "codemirror_mode": {
    "name": "ipython",
    "version": 3
   },
   "file_extension": ".py",
   "mimetype": "text/x-python",
   "name": "python",
   "nbconvert_exporter": "python",
   "pygments_lexer": "ipython3",
   "version": "3.10.13"
  }
 },
 "nbformat": 4,
 "nbformat_minor": 2
}
