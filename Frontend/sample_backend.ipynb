{
 "cells": [
  {
   "cell_type": "code",
   "execution_count": 8,
   "metadata": {},
   "outputs": [],
   "source": [
    "def fetch_book_summary(sample_book):\n",
    "    # Implement your logic to fetch the book summary based on the book name\n",
    "    # This can include web scraping, querying a database, or any other data source\n",
    "    # Return the summary as a string\n",
    "    return f\"This is a sample summary for the {sample_book}.\""
   ]
  },
  {
   "cell_type": "code",
   "execution_count": 9,
   "metadata": {},
   "outputs": [],
   "source": [
    "def generate_answer(query):\n",
    "    # Implement your logic to generate the answer to the user's query\n",
    "    # Return the answer as a string\n",
    "    return f\"This is a sample answer to the user's query &\\nquery: {query}\""
   ]
  },
  {
   "cell_type": "code",
   "execution_count": 10,
   "metadata": {},
   "outputs": [
    {
     "name": "stdout",
     "output_type": "stream",
     "text": [
      " * Serving Flask app '__main__'\n",
      " * Debug mode: off\n"
     ]
    },
    {
     "name": "stderr",
     "output_type": "stream",
     "text": [
      "WARNING: This is a development server. Do not use it in a production deployment. Use a production WSGI server instead.\n",
      " * Running on http://127.0.0.1:5000\n",
      "Press CTRL+C to quit\n"
     ]
    },
    {
     "name": "stderr",
     "output_type": "stream",
     "text": [
      "127.0.0.1 - - [30/Oct/2023 13:36:27] \"POST /get_summary HTTP/1.1\" 200 -\n",
      "127.0.0.1 - - [30/Oct/2023 13:36:40] \"POST /get_answer HTTP/1.1\" 200 -\n",
      "127.0.0.1 - - [30/Oct/2023 14:02:20] \"POST /get_summary HTTP/1.1\" 200 -\n",
      "127.0.0.1 - - [30/Oct/2023 14:02:32] \"POST /get_answer HTTP/1.1\" 200 -\n",
      "127.0.0.1 - - [30/Oct/2023 14:06:05] \"POST /get_answer HTTP/1.1\" 200 -\n",
      "127.0.0.1 - - [30/Oct/2023 14:06:13] \"POST /get_answer HTTP/1.1\" 200 -\n",
      "127.0.0.1 - - [30/Oct/2023 14:06:36] \"POST /get_answer HTTP/1.1\" 200 -\n",
      "127.0.0.1 - - [30/Oct/2023 14:06:47] \"POST /get_summary HTTP/1.1\" 200 -\n",
      "127.0.0.1 - - [30/Oct/2023 14:06:56] \"POST /get_answer HTTP/1.1\" 200 -\n",
      "127.0.0.1 - - [30/Oct/2023 14:11:06] \"POST /get_summary HTTP/1.1\" 200 -\n",
      "127.0.0.1 - - [30/Oct/2023 14:11:15] \"POST /get_answer HTTP/1.1\" 200 -\n"
     ]
    }
   ],
   "source": [
    "from flask import Flask, request, jsonify\n",
    "\n",
    "app = Flask(__name__)\n",
    "\n",
    "# Route for submiting the book name\n",
    "@app.route('/submit', methods=['POST'])\n",
    "def submit():\n",
    "\n",
    "    book_name = request.json.get('book_name')\n",
    "    if not book_name:\n",
    "      no_book = True\n",
    "      return jsonify({'status': \"Please enter the name of the book.\"})\n",
    "\n",
    "    return jsonify({'status': book_name})\n",
    "\n",
    "# Route for getting book summaries\n",
    "@app.route('/get_summary', methods=['GET'])\n",
    "def get_summary():\n",
    "    # book_name = request.json.get('book_name')\n",
    "    # Implement the logic to fetch the book summary based on book_name\n",
    "    # Return the summary as JSON\n",
    "    # Call the function to fetch the book summary\n",
    "    book_summary = fetch_book_summary(\"sample_book\"\")\n",
    "    return jsonify({'book_summary': book_summary})\n",
    "\n",
    "# Route for getting answers to queries\n",
    "@app.route('/get_answer', methods=['POST'])\n",
    "def get_answer():\n",
    "    query = request.json.get('query')\n",
    "    # Implement the logic to generate answers based on the query\n",
    "    # Return the answer as JSON\n",
    "    # Call the function to generate answers\n",
    "    answer = generate_answer(query)\n",
    "    return jsonify({'answer': answer})\n",
    "\n",
    "if __name__ == '__main__':\n",
    "    app.run()\n"
   ]
  },
  {
   "cell_type": "code",
   "execution_count": null,
   "metadata": {},
   "outputs": [],
   "source": []
  },
  {
   "cell_type": "code",
   "execution_count": null,
   "metadata": {},
   "outputs": [],
   "source": []
  }
 ],
 "metadata": {
  "kernelspec": {
   "display_name": "Python 3",
   "language": "python",
   "name": "python3"
  },
  "language_info": {
   "codemirror_mode": {
    "name": "ipython",
    "version": 3
   },
   "file_extension": ".py",
   "mimetype": "text/x-python",
   "name": "python",
   "nbconvert_exporter": "python",
   "pygments_lexer": "ipython3",
   "version": "3.10.13"
  }
 },
 "nbformat": 4,
 "nbformat_minor": 2
}
