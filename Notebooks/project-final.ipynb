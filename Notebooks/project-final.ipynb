{
  "cells": [
    {
      "cell_type": "code",
      "execution_count": 1,
      "metadata": {
        "_cell_guid": "b1076dfc-b9ad-4769-8c92-a6c4dae69d19",
        "_uuid": "8f2839f25d086af736a60e9eeb907d3b93b6e0e5",
        "execution": {
          "iopub.execute_input": "2023-10-28T14:05:51.860909Z",
          "iopub.status.busy": "2023-10-28T14:05:51.860543Z",
          "iopub.status.idle": "2023-10-28T14:05:52.828729Z",
          "shell.execute_reply": "2023-10-28T14:05:52.827654Z",
          "shell.execute_reply.started": "2023-10-28T14:05:51.860877Z"
        },
        "colab": {
          "base_uri": "https://localhost:8080/"
        },
        "id": "0z0ivsNvh6Jo",
        "outputId": "416950e6-dd99-448b-bec0-9dc47a72431d"
      },
      "outputs": [
        {
          "output_type": "stream",
          "name": "stdout",
          "text": [
            "GPU 0: Tesla T4 (UUID: GPU-81c822c5-d1f8-0947-cb9a-1bab68587b9c)\n"
          ]
        }
      ],
      "source": [
        "! nvidia-smi -L"
      ]
    },
    {
      "cell_type": "code",
      "execution_count": 2,
      "metadata": {
        "execution": {
          "iopub.execute_input": "2023-10-28T14:05:52.831251Z",
          "iopub.status.busy": "2023-10-28T14:05:52.830957Z",
          "iopub.status.idle": "2023-10-28T14:10:43.865563Z",
          "shell.execute_reply": "2023-10-28T14:10:43.864475Z",
          "shell.execute_reply.started": "2023-10-28T14:05:52.831225Z"
        },
        "colab": {
          "base_uri": "https://localhost:8080/"
        },
        "id": "6MqzkRAeh6Jt",
        "outputId": "6a05162c-20c4-4c11-9cf2-5eafce6fad70"
      },
      "outputs": [
        {
          "output_type": "stream",
          "name": "stdout",
          "text": [
            "Requirement already satisfied: chromadb in /usr/local/lib/python3.10/dist-packages (0.4.15)\n",
            "Requirement already satisfied: requests>=2.28 in /usr/local/lib/python3.10/dist-packages (from chromadb) (2.31.0)\n",
            "Requirement already satisfied: pydantic>=1.9 in /usr/local/lib/python3.10/dist-packages (from chromadb) (1.10.13)\n",
            "Requirement already satisfied: chroma-hnswlib==0.7.3 in /usr/local/lib/python3.10/dist-packages (from chromadb) (0.7.3)\n",
            "Requirement already satisfied: fastapi>=0.95.2 in /usr/local/lib/python3.10/dist-packages (from chromadb) (0.104.0)\n",
            "Requirement already satisfied: uvicorn[standard]>=0.18.3 in /usr/local/lib/python3.10/dist-packages (from chromadb) (0.23.2)\n",
            "Requirement already satisfied: posthog>=2.4.0 in /usr/local/lib/python3.10/dist-packages (from chromadb) (3.0.2)\n",
            "Requirement already satisfied: typing-extensions>=4.5.0 in /usr/local/lib/python3.10/dist-packages (from chromadb) (4.8.0)\n",
            "Requirement already satisfied: pulsar-client>=3.1.0 in /usr/local/lib/python3.10/dist-packages (from chromadb) (3.3.0)\n",
            "Requirement already satisfied: onnxruntime>=1.14.1 in /usr/local/lib/python3.10/dist-packages (from chromadb) (1.16.1)\n",
            "Requirement already satisfied: opentelemetry-api>=1.2.0 in /usr/local/lib/python3.10/dist-packages (from chromadb) (1.20.0)\n",
            "Requirement already satisfied: opentelemetry-exporter-otlp-proto-grpc>=1.2.0 in /usr/local/lib/python3.10/dist-packages (from chromadb) (1.20.0)\n",
            "Requirement already satisfied: opentelemetry-sdk>=1.2.0 in /usr/local/lib/python3.10/dist-packages (from chromadb) (1.20.0)\n",
            "Requirement already satisfied: tokenizers>=0.13.2 in /usr/local/lib/python3.10/dist-packages (from chromadb) (0.14.1)\n",
            "Requirement already satisfied: pypika>=0.48.9 in /usr/local/lib/python3.10/dist-packages (from chromadb) (0.48.9)\n",
            "Requirement already satisfied: tqdm>=4.65.0 in /usr/local/lib/python3.10/dist-packages (from chromadb) (4.66.1)\n",
            "Requirement already satisfied: overrides>=7.3.1 in /usr/local/lib/python3.10/dist-packages (from chromadb) (7.4.0)\n",
            "Requirement already satisfied: importlib-resources in /usr/local/lib/python3.10/dist-packages (from chromadb) (6.1.0)\n",
            "Requirement already satisfied: grpcio>=1.58.0 in /usr/local/lib/python3.10/dist-packages (from chromadb) (1.59.0)\n",
            "Requirement already satisfied: bcrypt>=4.0.1 in /usr/local/lib/python3.10/dist-packages (from chromadb) (4.0.1)\n",
            "Requirement already satisfied: typer>=0.9.0 in /usr/local/lib/python3.10/dist-packages (from chromadb) (0.9.0)\n",
            "Requirement already satisfied: kubernetes>=28.1.0 in /usr/local/lib/python3.10/dist-packages (from chromadb) (28.1.0)\n",
            "Requirement already satisfied: tenacity>=8.2.3 in /usr/local/lib/python3.10/dist-packages (from chromadb) (8.2.3)\n",
            "Requirement already satisfied: numpy>=1.22.5 in /usr/local/lib/python3.10/dist-packages (from chromadb) (1.23.5)\n",
            "Requirement already satisfied: anyio<4.0.0,>=3.7.1 in /usr/local/lib/python3.10/dist-packages (from fastapi>=0.95.2->chromadb) (3.7.1)\n",
            "Requirement already satisfied: starlette<0.28.0,>=0.27.0 in /usr/local/lib/python3.10/dist-packages (from fastapi>=0.95.2->chromadb) (0.27.0)\n",
            "Requirement already satisfied: certifi>=14.05.14 in /usr/local/lib/python3.10/dist-packages (from kubernetes>=28.1.0->chromadb) (2023.7.22)\n",
            "Requirement already satisfied: six>=1.9.0 in /usr/local/lib/python3.10/dist-packages (from kubernetes>=28.1.0->chromadb) (1.16.0)\n",
            "Requirement already satisfied: python-dateutil>=2.5.3 in /usr/local/lib/python3.10/dist-packages (from kubernetes>=28.1.0->chromadb) (2.8.2)\n",
            "Requirement already satisfied: pyyaml>=5.4.1 in /usr/local/lib/python3.10/dist-packages (from kubernetes>=28.1.0->chromadb) (6.0.1)\n",
            "Requirement already satisfied: google-auth>=1.0.1 in /usr/local/lib/python3.10/dist-packages (from kubernetes>=28.1.0->chromadb) (2.17.3)\n",
            "Requirement already satisfied: websocket-client!=0.40.0,!=0.41.*,!=0.42.*,>=0.32.0 in /usr/local/lib/python3.10/dist-packages (from kubernetes>=28.1.0->chromadb) (1.6.4)\n",
            "Requirement already satisfied: requests-oauthlib in /usr/local/lib/python3.10/dist-packages (from kubernetes>=28.1.0->chromadb) (1.3.1)\n",
            "Requirement already satisfied: oauthlib>=3.2.2 in /usr/local/lib/python3.10/dist-packages (from kubernetes>=28.1.0->chromadb) (3.2.2)\n",
            "Requirement already satisfied: urllib3<2.0,>=1.24.2 in /usr/local/lib/python3.10/dist-packages (from kubernetes>=28.1.0->chromadb) (1.26.18)\n",
            "Requirement already satisfied: coloredlogs in /usr/local/lib/python3.10/dist-packages (from onnxruntime>=1.14.1->chromadb) (15.0.1)\n",
            "Requirement already satisfied: flatbuffers in /usr/local/lib/python3.10/dist-packages (from onnxruntime>=1.14.1->chromadb) (23.5.26)\n",
            "Requirement already satisfied: packaging in /usr/local/lib/python3.10/dist-packages (from onnxruntime>=1.14.1->chromadb) (23.2)\n",
            "Requirement already satisfied: protobuf in /usr/local/lib/python3.10/dist-packages (from onnxruntime>=1.14.1->chromadb) (3.20.3)\n",
            "Requirement already satisfied: sympy in /usr/local/lib/python3.10/dist-packages (from onnxruntime>=1.14.1->chromadb) (1.12)\n",
            "Requirement already satisfied: deprecated>=1.2.6 in /usr/local/lib/python3.10/dist-packages (from opentelemetry-api>=1.2.0->chromadb) (1.2.14)\n",
            "Requirement already satisfied: importlib-metadata<7.0,>=6.0 in /usr/local/lib/python3.10/dist-packages (from opentelemetry-api>=1.2.0->chromadb) (6.8.0)\n",
            "Requirement already satisfied: backoff<3.0.0,>=1.10.0 in /usr/local/lib/python3.10/dist-packages (from opentelemetry-exporter-otlp-proto-grpc>=1.2.0->chromadb) (2.2.1)\n",
            "Requirement already satisfied: googleapis-common-protos~=1.52 in /usr/local/lib/python3.10/dist-packages (from opentelemetry-exporter-otlp-proto-grpc>=1.2.0->chromadb) (1.61.0)\n",
            "Requirement already satisfied: opentelemetry-exporter-otlp-proto-common==1.20.0 in /usr/local/lib/python3.10/dist-packages (from opentelemetry-exporter-otlp-proto-grpc>=1.2.0->chromadb) (1.20.0)\n",
            "Requirement already satisfied: opentelemetry-proto==1.20.0 in /usr/local/lib/python3.10/dist-packages (from opentelemetry-exporter-otlp-proto-grpc>=1.2.0->chromadb) (1.20.0)\n",
            "Requirement already satisfied: opentelemetry-semantic-conventions==0.41b0 in /usr/local/lib/python3.10/dist-packages (from opentelemetry-sdk>=1.2.0->chromadb) (0.41b0)\n",
            "Requirement already satisfied: monotonic>=1.5 in /usr/local/lib/python3.10/dist-packages (from posthog>=2.4.0->chromadb) (1.6)\n",
            "Requirement already satisfied: charset-normalizer<4,>=2 in /usr/local/lib/python3.10/dist-packages (from requests>=2.28->chromadb) (3.3.1)\n",
            "Requirement already satisfied: idna<4,>=2.5 in /usr/local/lib/python3.10/dist-packages (from requests>=2.28->chromadb) (3.4)\n",
            "Requirement already satisfied: huggingface_hub<0.18,>=0.16.4 in /usr/local/lib/python3.10/dist-packages (from tokenizers>=0.13.2->chromadb) (0.17.3)\n",
            "Requirement already satisfied: click<9.0.0,>=7.1.1 in /usr/local/lib/python3.10/dist-packages (from typer>=0.9.0->chromadb) (8.1.7)\n",
            "Requirement already satisfied: h11>=0.8 in /usr/local/lib/python3.10/dist-packages (from uvicorn[standard]>=0.18.3->chromadb) (0.14.0)\n",
            "Requirement already satisfied: httptools>=0.5.0 in /usr/local/lib/python3.10/dist-packages (from uvicorn[standard]>=0.18.3->chromadb) (0.6.1)\n",
            "Requirement already satisfied: python-dotenv>=0.13 in /usr/local/lib/python3.10/dist-packages (from uvicorn[standard]>=0.18.3->chromadb) (1.0.0)\n",
            "Requirement already satisfied: uvloop!=0.15.0,!=0.15.1,>=0.14.0 in /usr/local/lib/python3.10/dist-packages (from uvicorn[standard]>=0.18.3->chromadb) (0.19.0)\n",
            "Requirement already satisfied: watchfiles>=0.13 in /usr/local/lib/python3.10/dist-packages (from uvicorn[standard]>=0.18.3->chromadb) (0.21.0)\n",
            "Requirement already satisfied: websockets>=10.4 in /usr/local/lib/python3.10/dist-packages (from uvicorn[standard]>=0.18.3->chromadb) (12.0)\n",
            "Requirement already satisfied: sniffio>=1.1 in /usr/local/lib/python3.10/dist-packages (from anyio<4.0.0,>=3.7.1->fastapi>=0.95.2->chromadb) (1.3.0)\n",
            "Requirement already satisfied: exceptiongroup in /usr/local/lib/python3.10/dist-packages (from anyio<4.0.0,>=3.7.1->fastapi>=0.95.2->chromadb) (1.1.3)\n",
            "Requirement already satisfied: wrapt<2,>=1.10 in /usr/local/lib/python3.10/dist-packages (from deprecated>=1.2.6->opentelemetry-api>=1.2.0->chromadb) (1.14.1)\n",
            "Requirement already satisfied: cachetools<6.0,>=2.0.0 in /usr/local/lib/python3.10/dist-packages (from google-auth>=1.0.1->kubernetes>=28.1.0->chromadb) (5.3.2)\n",
            "Requirement already satisfied: pyasn1-modules>=0.2.1 in /usr/local/lib/python3.10/dist-packages (from google-auth>=1.0.1->kubernetes>=28.1.0->chromadb) (0.3.0)\n",
            "Requirement already satisfied: rsa<5,>=3.1.4 in /usr/local/lib/python3.10/dist-packages (from google-auth>=1.0.1->kubernetes>=28.1.0->chromadb) (4.9)\n",
            "Requirement already satisfied: filelock in /usr/local/lib/python3.10/dist-packages (from huggingface_hub<0.18,>=0.16.4->tokenizers>=0.13.2->chromadb) (3.12.4)\n",
            "Requirement already satisfied: fsspec in /usr/local/lib/python3.10/dist-packages (from huggingface_hub<0.18,>=0.16.4->tokenizers>=0.13.2->chromadb) (2023.6.0)\n",
            "Requirement already satisfied: zipp>=0.5 in /usr/local/lib/python3.10/dist-packages (from importlib-metadata<7.0,>=6.0->opentelemetry-api>=1.2.0->chromadb) (3.17.0)\n",
            "Requirement already satisfied: humanfriendly>=9.1 in /usr/local/lib/python3.10/dist-packages (from coloredlogs->onnxruntime>=1.14.1->chromadb) (10.0)\n",
            "Requirement already satisfied: mpmath>=0.19 in /usr/local/lib/python3.10/dist-packages (from sympy->onnxruntime>=1.14.1->chromadb) (1.3.0)\n",
            "Requirement already satisfied: pyasn1<0.6.0,>=0.4.6 in /usr/local/lib/python3.10/dist-packages (from pyasn1-modules>=0.2.1->google-auth>=1.0.1->kubernetes>=28.1.0->chromadb) (0.5.0)\n",
            "Requirement already satisfied: replicate in /usr/local/lib/python3.10/dist-packages (0.15.5)\n",
            "Requirement already satisfied: packaging in /usr/local/lib/python3.10/dist-packages (from replicate) (23.2)\n",
            "Requirement already satisfied: pydantic>1 in /usr/local/lib/python3.10/dist-packages (from replicate) (1.10.13)\n",
            "Requirement already satisfied: httpx<1,>=0.21.0 in /usr/local/lib/python3.10/dist-packages (from replicate) (0.25.0)\n",
            "Requirement already satisfied: certifi in /usr/local/lib/python3.10/dist-packages (from httpx<1,>=0.21.0->replicate) (2023.7.22)\n",
            "Requirement already satisfied: httpcore<0.19.0,>=0.18.0 in /usr/local/lib/python3.10/dist-packages (from httpx<1,>=0.21.0->replicate) (0.18.0)\n",
            "Requirement already satisfied: idna in /usr/local/lib/python3.10/dist-packages (from httpx<1,>=0.21.0->replicate) (3.4)\n",
            "Requirement already satisfied: sniffio in /usr/local/lib/python3.10/dist-packages (from httpx<1,>=0.21.0->replicate) (1.3.0)\n",
            "Requirement already satisfied: typing-extensions>=4.2.0 in /usr/local/lib/python3.10/dist-packages (from pydantic>1->replicate) (4.8.0)\n",
            "Requirement already satisfied: anyio<5.0,>=3.0 in /usr/local/lib/python3.10/dist-packages (from httpcore<0.19.0,>=0.18.0->httpx<1,>=0.21.0->replicate) (3.7.1)\n",
            "Requirement already satisfied: h11<0.15,>=0.13 in /usr/local/lib/python3.10/dist-packages (from httpcore<0.19.0,>=0.18.0->httpx<1,>=0.21.0->replicate) (0.14.0)\n",
            "Requirement already satisfied: exceptiongroup in /usr/local/lib/python3.10/dist-packages (from anyio<5.0,>=3.0->httpcore<0.19.0,>=0.18.0->httpx<1,>=0.21.0->replicate) (1.1.3)\n",
            "Requirement already satisfied: transformers in /usr/local/lib/python3.10/dist-packages (4.34.1)\n",
            "Requirement already satisfied: filelock in /usr/local/lib/python3.10/dist-packages (from transformers) (3.12.4)\n",
            "Requirement already satisfied: huggingface-hub<1.0,>=0.16.4 in /usr/local/lib/python3.10/dist-packages (from transformers) (0.17.3)\n",
            "Requirement already satisfied: numpy>=1.17 in /usr/local/lib/python3.10/dist-packages (from transformers) (1.23.5)\n",
            "Requirement already satisfied: packaging>=20.0 in /usr/local/lib/python3.10/dist-packages (from transformers) (23.2)\n",
            "Requirement already satisfied: pyyaml>=5.1 in /usr/local/lib/python3.10/dist-packages (from transformers) (6.0.1)\n",
            "Requirement already satisfied: regex!=2019.12.17 in /usr/local/lib/python3.10/dist-packages (from transformers) (2023.6.3)\n",
            "Requirement already satisfied: requests in /usr/local/lib/python3.10/dist-packages (from transformers) (2.31.0)\n",
            "Requirement already satisfied: tokenizers<0.15,>=0.14 in /usr/local/lib/python3.10/dist-packages (from transformers) (0.14.1)\n",
            "Requirement already satisfied: safetensors>=0.3.1 in /usr/local/lib/python3.10/dist-packages (from transformers) (0.4.0)\n",
            "Requirement already satisfied: tqdm>=4.27 in /usr/local/lib/python3.10/dist-packages (from transformers) (4.66.1)\n",
            "Requirement already satisfied: fsspec in /usr/local/lib/python3.10/dist-packages (from huggingface-hub<1.0,>=0.16.4->transformers) (2023.6.0)\n",
            "Requirement already satisfied: typing-extensions>=3.7.4.3 in /usr/local/lib/python3.10/dist-packages (from huggingface-hub<1.0,>=0.16.4->transformers) (4.8.0)\n",
            "Requirement already satisfied: charset-normalizer<4,>=2 in /usr/local/lib/python3.10/dist-packages (from requests->transformers) (3.3.1)\n",
            "Requirement already satisfied: idna<4,>=2.5 in /usr/local/lib/python3.10/dist-packages (from requests->transformers) (3.4)\n",
            "Requirement already satisfied: urllib3<3,>=1.21.1 in /usr/local/lib/python3.10/dist-packages (from requests->transformers) (1.26.18)\n",
            "Requirement already satisfied: certifi>=2017.4.17 in /usr/local/lib/python3.10/dist-packages (from requests->transformers) (2023.7.22)\n",
            "Requirement already satisfied: langchain in /usr/local/lib/python3.10/dist-packages (0.0.325)\n",
            "Requirement already satisfied: PyYAML>=5.3 in /usr/local/lib/python3.10/dist-packages (from langchain) (6.0.1)\n",
            "Requirement already satisfied: SQLAlchemy<3,>=1.4 in /usr/local/lib/python3.10/dist-packages (from langchain) (2.0.22)\n",
            "Requirement already satisfied: aiohttp<4.0.0,>=3.8.3 in /usr/local/lib/python3.10/dist-packages (from langchain) (3.8.6)\n",
            "Requirement already satisfied: anyio<4.0 in /usr/local/lib/python3.10/dist-packages (from langchain) (3.7.1)\n",
            "Requirement already satisfied: async-timeout<5.0.0,>=4.0.0 in /usr/local/lib/python3.10/dist-packages (from langchain) (4.0.3)\n",
            "Requirement already satisfied: dataclasses-json<0.7,>=0.5.7 in /usr/local/lib/python3.10/dist-packages (from langchain) (0.6.1)\n",
            "Requirement already satisfied: jsonpatch<2.0,>=1.33 in /usr/local/lib/python3.10/dist-packages (from langchain) (1.33)\n",
            "Requirement already satisfied: langsmith<0.1.0,>=0.0.52 in /usr/local/lib/python3.10/dist-packages (from langchain) (0.0.53)\n",
            "Requirement already satisfied: numpy<2,>=1 in /usr/local/lib/python3.10/dist-packages (from langchain) (1.23.5)\n",
            "Requirement already satisfied: pydantic<3,>=1 in /usr/local/lib/python3.10/dist-packages (from langchain) (1.10.13)\n",
            "Requirement already satisfied: requests<3,>=2 in /usr/local/lib/python3.10/dist-packages (from langchain) (2.31.0)\n",
            "Requirement already satisfied: tenacity<9.0.0,>=8.1.0 in /usr/local/lib/python3.10/dist-packages (from langchain) (8.2.3)\n",
            "Requirement already satisfied: attrs>=17.3.0 in /usr/local/lib/python3.10/dist-packages (from aiohttp<4.0.0,>=3.8.3->langchain) (23.1.0)\n",
            "Requirement already satisfied: charset-normalizer<4.0,>=2.0 in /usr/local/lib/python3.10/dist-packages (from aiohttp<4.0.0,>=3.8.3->langchain) (3.3.1)\n",
            "Requirement already satisfied: multidict<7.0,>=4.5 in /usr/local/lib/python3.10/dist-packages (from aiohttp<4.0.0,>=3.8.3->langchain) (6.0.4)\n",
            "Requirement already satisfied: yarl<2.0,>=1.0 in /usr/local/lib/python3.10/dist-packages (from aiohttp<4.0.0,>=3.8.3->langchain) (1.9.2)\n",
            "Requirement already satisfied: frozenlist>=1.1.1 in /usr/local/lib/python3.10/dist-packages (from aiohttp<4.0.0,>=3.8.3->langchain) (1.4.0)\n",
            "Requirement already satisfied: aiosignal>=1.1.2 in /usr/local/lib/python3.10/dist-packages (from aiohttp<4.0.0,>=3.8.3->langchain) (1.3.1)\n",
            "Requirement already satisfied: idna>=2.8 in /usr/local/lib/python3.10/dist-packages (from anyio<4.0->langchain) (3.4)\n",
            "Requirement already satisfied: sniffio>=1.1 in /usr/local/lib/python3.10/dist-packages (from anyio<4.0->langchain) (1.3.0)\n",
            "Requirement already satisfied: exceptiongroup in /usr/local/lib/python3.10/dist-packages (from anyio<4.0->langchain) (1.1.3)\n",
            "Requirement already satisfied: marshmallow<4.0.0,>=3.18.0 in /usr/local/lib/python3.10/dist-packages (from dataclasses-json<0.7,>=0.5.7->langchain) (3.20.1)\n",
            "Requirement already satisfied: typing-inspect<1,>=0.4.0 in /usr/local/lib/python3.10/dist-packages (from dataclasses-json<0.7,>=0.5.7->langchain) (0.9.0)\n",
            "Requirement already satisfied: jsonpointer>=1.9 in /usr/local/lib/python3.10/dist-packages (from jsonpatch<2.0,>=1.33->langchain) (2.4)\n",
            "Requirement already satisfied: typing-extensions>=4.2.0 in /usr/local/lib/python3.10/dist-packages (from pydantic<3,>=1->langchain) (4.8.0)\n",
            "Requirement already satisfied: urllib3<3,>=1.21.1 in /usr/local/lib/python3.10/dist-packages (from requests<3,>=2->langchain) (1.26.18)\n",
            "Requirement already satisfied: certifi>=2017.4.17 in /usr/local/lib/python3.10/dist-packages (from requests<3,>=2->langchain) (2023.7.22)\n",
            "Requirement already satisfied: greenlet!=0.4.17 in /usr/local/lib/python3.10/dist-packages (from SQLAlchemy<3,>=1.4->langchain) (3.0.0)\n",
            "Requirement already satisfied: packaging>=17.0 in /usr/local/lib/python3.10/dist-packages (from marshmallow<4.0.0,>=3.18.0->dataclasses-json<0.7,>=0.5.7->langchain) (23.2)\n",
            "Requirement already satisfied: mypy-extensions>=0.3.0 in /usr/local/lib/python3.10/dist-packages (from typing-inspect<1,>=0.4.0->dataclasses-json<0.7,>=0.5.7->langchain) (1.0.0)\n",
            "Requirement already satisfied: sentence_transformers in /usr/local/lib/python3.10/dist-packages (2.2.2)\n",
            "Requirement already satisfied: transformers<5.0.0,>=4.6.0 in /usr/local/lib/python3.10/dist-packages (from sentence_transformers) (4.34.1)\n",
            "Requirement already satisfied: tqdm in /usr/local/lib/python3.10/dist-packages (from sentence_transformers) (4.66.1)\n",
            "Requirement already satisfied: torch>=1.6.0 in /usr/local/lib/python3.10/dist-packages (from sentence_transformers) (2.1.0+cu118)\n",
            "Requirement already satisfied: torchvision in /usr/local/lib/python3.10/dist-packages (from sentence_transformers) (0.16.0+cu118)\n",
            "Requirement already satisfied: numpy in /usr/local/lib/python3.10/dist-packages (from sentence_transformers) (1.23.5)\n",
            "Requirement already satisfied: scikit-learn in /usr/local/lib/python3.10/dist-packages (from sentence_transformers) (1.2.2)\n",
            "Requirement already satisfied: scipy in /usr/local/lib/python3.10/dist-packages (from sentence_transformers) (1.11.3)\n",
            "Requirement already satisfied: nltk in /usr/local/lib/python3.10/dist-packages (from sentence_transformers) (3.8.1)\n",
            "Requirement already satisfied: sentencepiece in /usr/local/lib/python3.10/dist-packages (from sentence_transformers) (0.1.99)\n",
            "Requirement already satisfied: huggingface-hub>=0.4.0 in /usr/local/lib/python3.10/dist-packages (from sentence_transformers) (0.17.3)\n",
            "Requirement already satisfied: filelock in /usr/local/lib/python3.10/dist-packages (from huggingface-hub>=0.4.0->sentence_transformers) (3.12.4)\n",
            "Requirement already satisfied: fsspec in /usr/local/lib/python3.10/dist-packages (from huggingface-hub>=0.4.0->sentence_transformers) (2023.6.0)\n",
            "Requirement already satisfied: requests in /usr/local/lib/python3.10/dist-packages (from huggingface-hub>=0.4.0->sentence_transformers) (2.31.0)\n",
            "Requirement already satisfied: pyyaml>=5.1 in /usr/local/lib/python3.10/dist-packages (from huggingface-hub>=0.4.0->sentence_transformers) (6.0.1)\n",
            "Requirement already satisfied: typing-extensions>=3.7.4.3 in /usr/local/lib/python3.10/dist-packages (from huggingface-hub>=0.4.0->sentence_transformers) (4.8.0)\n",
            "Requirement already satisfied: packaging>=20.9 in /usr/local/lib/python3.10/dist-packages (from huggingface-hub>=0.4.0->sentence_transformers) (23.2)\n",
            "Requirement already satisfied: sympy in /usr/local/lib/python3.10/dist-packages (from torch>=1.6.0->sentence_transformers) (1.12)\n",
            "Requirement already satisfied: networkx in /usr/local/lib/python3.10/dist-packages (from torch>=1.6.0->sentence_transformers) (3.2)\n",
            "Requirement already satisfied: jinja2 in /usr/local/lib/python3.10/dist-packages (from torch>=1.6.0->sentence_transformers) (3.1.2)\n",
            "Requirement already satisfied: triton==2.1.0 in /usr/local/lib/python3.10/dist-packages (from torch>=1.6.0->sentence_transformers) (2.1.0)\n",
            "Requirement already satisfied: regex!=2019.12.17 in /usr/local/lib/python3.10/dist-packages (from transformers<5.0.0,>=4.6.0->sentence_transformers) (2023.6.3)\n",
            "Requirement already satisfied: tokenizers<0.15,>=0.14 in /usr/local/lib/python3.10/dist-packages (from transformers<5.0.0,>=4.6.0->sentence_transformers) (0.14.1)\n",
            "Requirement already satisfied: safetensors>=0.3.1 in /usr/local/lib/python3.10/dist-packages (from transformers<5.0.0,>=4.6.0->sentence_transformers) (0.4.0)\n",
            "Requirement already satisfied: click in /usr/local/lib/python3.10/dist-packages (from nltk->sentence_transformers) (8.1.7)\n",
            "Requirement already satisfied: joblib in /usr/local/lib/python3.10/dist-packages (from nltk->sentence_transformers) (1.3.2)\n",
            "Requirement already satisfied: threadpoolctl>=2.0.0 in /usr/local/lib/python3.10/dist-packages (from scikit-learn->sentence_transformers) (3.2.0)\n",
            "Requirement already satisfied: pillow!=8.3.*,>=5.3.0 in /usr/local/lib/python3.10/dist-packages (from torchvision->sentence_transformers) (9.4.0)\n",
            "Requirement already satisfied: MarkupSafe>=2.0 in /usr/local/lib/python3.10/dist-packages (from jinja2->torch>=1.6.0->sentence_transformers) (2.1.3)\n",
            "Requirement already satisfied: charset-normalizer<4,>=2 in /usr/local/lib/python3.10/dist-packages (from requests->huggingface-hub>=0.4.0->sentence_transformers) (3.3.1)\n",
            "Requirement already satisfied: idna<4,>=2.5 in /usr/local/lib/python3.10/dist-packages (from requests->huggingface-hub>=0.4.0->sentence_transformers) (3.4)\n",
            "Requirement already satisfied: urllib3<3,>=1.21.1 in /usr/local/lib/python3.10/dist-packages (from requests->huggingface-hub>=0.4.0->sentence_transformers) (1.26.18)\n",
            "Requirement already satisfied: certifi>=2017.4.17 in /usr/local/lib/python3.10/dist-packages (from requests->huggingface-hub>=0.4.0->sentence_transformers) (2023.7.22)\n",
            "Requirement already satisfied: mpmath>=0.19 in /usr/local/lib/python3.10/dist-packages (from sympy->torch>=1.6.0->sentence_transformers) (1.3.0)\n",
            "Requirement already satisfied: InstructorEmbedding in /usr/local/lib/python3.10/dist-packages (1.0.1)\n",
            "CPU times: user 269 ms, sys: 31.2 ms, total: 300 ms\n",
            "Wall time: 41 s\n"
          ]
        }
      ],
      "source": [
        "%%time\n",
        "\n",
        "# # both\n",
        "# !pip install -qqq transformers==4.31.0 --progress-bar off\n",
        "# !pip install -qqq langchain==0.0.266 --progress-bar off\n",
        "# !pip install -qqq xformers==0.0.20 --progress-bar off\n",
        "# !pip install -qqq sentence_transformers==2.2.2 --progress-bar off\n",
        "# !pip install -qqq InstructorEmbedding==1.0.1 --progress-bar off\n",
        "\n",
        "# th\n",
        "# !pip install -Uqqq pip --progress-bar off\n",
        "# !pip install -qqq torch==2.0.1 --progress-bar off\n",
        "!pip install chromadb --progress-bar off\n",
        "# !pip install -qqq pypdf==3.15.0 --progress-bar off\n",
        "# !pip install -qqq pdf2image==1.16.3 --progress-bar off\n",
        "!pip install replicate\n",
        "\n",
        "\n",
        "# my\n",
        "! pip install -qq -U faiss-cpu\n",
        "# ! pip install -qq -U accelerate bitsandbytes einops tiktoken\n",
        "\n",
        "# both\n",
        "!pip install transformers --progress-bar off\n",
        "!pip install langchain --progress-bar off\n",
        "# !pip install xformers --progress-bar off\n",
        "!pip install sentence_transformers --progress-bar off\n",
        "!pip install InstructorEmbedding --progress-bar off"
      ]
    },
    {
      "cell_type": "code",
      "execution_count": 3,
      "metadata": {
        "id": "ZvKGmgbnh6Ju"
      },
      "outputs": [],
      "source": [
        "# !pip uninstall -y torch"
      ]
    },
    {
      "cell_type": "code",
      "execution_count": 4,
      "metadata": {
        "id": "mBzT012Jh6Jv"
      },
      "outputs": [],
      "source": [
        "import torch\n",
        "import torchvision"
      ]
    },
    {
      "cell_type": "code",
      "execution_count": 5,
      "metadata": {
        "colab": {
          "base_uri": "https://localhost:8080/"
        },
        "id": "2_ve4u9hh6Jv",
        "outputId": "2aebb3f1-573c-4264-90c1-a5ccafef52f8"
      },
      "outputs": [
        {
          "output_type": "execute_result",
          "data": {
            "text/plain": [
              "True"
            ]
          },
          "metadata": {},
          "execution_count": 5
        }
      ],
      "source": [
        "torch.cuda.is_available()"
      ]
    },
    {
      "cell_type": "code",
      "execution_count": 6,
      "metadata": {
        "id": "JYw6Y--bh6Jw"
      },
      "outputs": [],
      "source": [
        "# pip install auto-gptq"
      ]
    },
    {
      "cell_type": "code",
      "execution_count": 7,
      "metadata": {
        "execution": {
          "iopub.execute_input": "2023-10-28T14:10:43.867524Z",
          "iopub.status.busy": "2023-10-28T14:10:43.867164Z",
          "iopub.status.idle": "2023-10-28T14:10:45.304960Z",
          "shell.execute_reply": "2023-10-28T14:10:45.303633Z",
          "shell.execute_reply.started": "2023-10-28T14:10:43.867492Z"
        },
        "id": "5qgaV7pUh6Jw"
      },
      "outputs": [],
      "source": [
        "# !wget -q https://github.com/PanQiWei/AutoGPTQ/releases/download/v0.4.1/auto_gptq-0.4.1+cu118-cp310-cp310-linux_x86_64.whl"
      ]
    },
    {
      "cell_type": "code",
      "execution_count": 8,
      "metadata": {
        "execution": {
          "iopub.execute_input": "2023-10-28T14:10:45.308374Z",
          "iopub.status.busy": "2023-10-28T14:10:45.307990Z",
          "iopub.status.idle": "2023-10-28T14:10:58.426242Z",
          "shell.execute_reply": "2023-10-28T14:10:58.425149Z",
          "shell.execute_reply.started": "2023-10-28T14:10:45.308335Z"
        },
        "id": "me71vmd8h6Jw"
      },
      "outputs": [],
      "source": [
        "# !pip install -qqq auto_gptq-0.4.1+cu118-cp310-cp310-linux_x86_64.whl --progress-bar off"
      ]
    },
    {
      "cell_type": "code",
      "execution_count": 9,
      "metadata": {
        "execution": {
          "iopub.execute_input": "2023-10-28T14:10:58.427955Z",
          "iopub.status.busy": "2023-10-28T14:10:58.427634Z",
          "iopub.status.idle": "2023-10-28T14:10:58.432719Z",
          "shell.execute_reply": "2023-10-28T14:10:58.431844Z",
          "shell.execute_reply.started": "2023-10-28T14:10:58.427928Z"
        },
        "id": "k-cf3cEmh6Jx"
      },
      "outputs": [],
      "source": [
        "# !sudo apt-get install poppler-utils"
      ]
    },
    {
      "cell_type": "code",
      "execution_count": 10,
      "metadata": {
        "execution": {
          "iopub.execute_input": "2023-10-28T14:28:59.023855Z",
          "iopub.status.busy": "2023-10-28T14:28:59.023422Z",
          "iopub.status.idle": "2023-10-28T14:28:59.884333Z",
          "shell.execute_reply": "2023-10-28T14:28:59.883301Z",
          "shell.execute_reply.started": "2023-10-28T14:28:59.023817Z"
        },
        "colab": {
          "base_uri": "https://localhost:8080/"
        },
        "id": "0omvfkYQh6Jx",
        "outputId": "785bc547-5001-4893-82ea-dfd0933c11d1"
      },
      "outputs": [
        {
          "output_type": "stream",
          "name": "stdout",
          "text": [
            "0.0.325\n"
          ]
        }
      ],
      "source": [
        "import warnings\n",
        "warnings.filterwarnings(\"ignore\")\n",
        "\n",
        "import os\n",
        "import glob\n",
        "import textwrap\n",
        "import time\n",
        "\n",
        "import langchain\n",
        "\n",
        "# loaders\n",
        "# from langchain.document_loaders import PyPDFLoader\n",
        "# from langchain.document_loaders import DirectoryLoader\n",
        "from langchain.document_loaders import TextLoader\n",
        "\n",
        "\n",
        "# splits\n",
        "from langchain.text_splitter import RecursiveCharacterTextSplitter\n",
        "\n",
        "# prompts\n",
        "from langchain import PromptTemplate, LLMChain\n",
        "\n",
        "# vector stores\n",
        "from langchain.vectorstores import FAISS\n",
        "from langchain.vectorstores import Chroma\n",
        "\n",
        "# models\n",
        "from langchain.llms import HuggingFacePipeline\n",
        "from InstructorEmbedding import INSTRUCTOR\n",
        "from langchain.embeddings import HuggingFaceInstructEmbeddings\n",
        "from langchain.llms import Replicate\n",
        "\n",
        "# retrievers\n",
        "from langchain.chains import RetrievalQA\n",
        "\n",
        "import torch\n",
        "import transformers\n",
        "# from transformers import AutoTokenizer, AutoModelForCausalLM, pipeline\n",
        "# from transformers import AutoTokenizer, TextStreamer, pipeline\n",
        "\n",
        "\n",
        "print(langchain.__version__)"
      ]
    },
    {
      "cell_type": "code",
      "execution_count": 11,
      "metadata": {
        "execution": {
          "iopub.execute_input": "2023-10-28T14:10:58.434158Z",
          "iopub.status.busy": "2023-10-28T14:10:58.433896Z",
          "iopub.status.idle": "2023-10-28T14:11:22.376081Z",
          "shell.execute_reply": "2023-10-28T14:11:22.375118Z",
          "shell.execute_reply.started": "2023-10-28T14:10:58.434135Z"
        },
        "colab": {
          "base_uri": "https://localhost:8080/"
        },
        "id": "TtJd9H42h6Jy",
        "outputId": "99e9ecb2-5a18-442d-efe9-9882106e95d3"
      },
      "outputs": [
        {
          "output_type": "stream",
          "name": "stdout",
          "text": [
            "cuda:0\n"
          ]
        }
      ],
      "source": [
        "# from langchain.vectorstores import Chroma\n",
        "# from auto_gptq import AutoGPTQForCausalLM\n",
        "# import torch\n",
        "# from langchain import HuggingFacePipeline, PromptTemplate\n",
        "# from langchain.chains import RetrievalQA\n",
        "# from langchain.document_loaders import PyPDFDirectoryLoader\n",
        "# from langchain.embeddings import HuggingFaceInstructEmbeddings\n",
        "# from langchain.text_splitter import RecursiveCharacterTextSplitter\n",
        "# from pdf2image import convert_from_path\n",
        "# from transformers import AutoTokenizer, TextStreamer, pipeline\n",
        "\n",
        "DEVICE = \"cuda:0\" if torch.cuda.is_available() else \"cpu\"\n",
        "print(DEVICE)"
      ]
    },
    {
      "cell_type": "code",
      "execution_count": 12,
      "metadata": {
        "execution": {
          "iopub.execute_input": "2023-10-28T14:12:14.571226Z",
          "iopub.status.busy": "2023-10-28T14:12:14.570410Z",
          "iopub.status.idle": "2023-10-28T14:12:14.575549Z",
          "shell.execute_reply": "2023-10-28T14:12:14.574485Z",
          "shell.execute_reply.started": "2023-10-28T14:12:14.571189Z"
        },
        "id": "F6MiZR30h6Jy"
      },
      "outputs": [],
      "source": [
        "# max_len = 8192"
      ]
    },
    {
      "cell_type": "code",
      "execution_count": 13,
      "metadata": {
        "execution": {
          "iopub.execute_input": "2023-10-28T14:12:14.577168Z",
          "iopub.status.busy": "2023-10-28T14:12:14.576819Z",
          "iopub.status.idle": "2023-10-28T14:12:18.225567Z",
          "shell.execute_reply": "2023-10-28T14:12:18.224542Z",
          "shell.execute_reply.started": "2023-10-28T14:12:14.577137Z"
        },
        "id": "rzqJCB5Dh6Jy"
      },
      "outputs": [],
      "source": [
        "# class CFG:\n",
        "#     # LLMs\n",
        "#     model_name = 'llama2-13b' # wizardlm, bloom, falcon, llama2-7b, llama2-13b\n",
        "#     temperature = 0,\n",
        "#     top_p = 0.95,\n",
        "#     repetition_penalty = 1.15\n",
        "\n",
        "#     # splitting\n",
        "#     split_chunk_size = 800\n",
        "#     split_overlap = 0\n",
        "\n",
        "#     # embeddings\n",
        "#     embeddings_model_repo = 'hkunlp/instructor-base'\n",
        "\n",
        "#     # similar passages\n",
        "#     k = 3"
      ]
    },
    {
      "cell_type": "code",
      "execution_count": 14,
      "metadata": {
        "execution": {
          "iopub.execute_input": "2023-10-28T14:12:18.238847Z",
          "iopub.status.busy": "2023-10-28T14:12:18.238543Z",
          "iopub.status.idle": "2023-10-28T14:12:18.248654Z",
          "shell.execute_reply": "2023-10-28T14:12:18.247983Z",
          "shell.execute_reply.started": "2023-10-28T14:12:18.238815Z"
        },
        "id": "v2wF5vcoh6Jz"
      },
      "outputs": [],
      "source": [
        "# model_repo = 'daryl149/llama-2-13b-chat-hf'\n",
        "\n",
        "# tokenizer = AutoTokenizer.from_pretrained(model_repo, use_fast=True)\n",
        "\n",
        "# model = AutoModelForCausalLM.from_pretrained(\n",
        "#     model_repo,\n",
        "#     load_in_4bit=True,\n",
        "#     device_map='auto',\n",
        "#     torch_dtype=torch.float16,\n",
        "#     low_cpu_mem_usage=True,\n",
        "#     trust_remote_code=True\n",
        "# )\n",
        "\n",
        "# max_len = 8192"
      ]
    },
    {
      "cell_type": "code",
      "execution_count": 15,
      "metadata": {
        "execution": {
          "iopub.execute_input": "2023-10-28T14:12:18.230284Z",
          "iopub.status.busy": "2023-10-28T14:12:18.229959Z",
          "iopub.status.idle": "2023-10-28T14:12:18.237245Z",
          "shell.execute_reply": "2023-10-28T14:12:18.236292Z",
          "shell.execute_reply.started": "2023-10-28T14:12:18.230257Z"
        },
        "colab": {
          "base_uri": "https://localhost:8080/"
        },
        "id": "FMFQCYU0h6Jz",
        "outputId": "92e01c4d-ab46-4e31-fd45-8779b562b279"
      },
      "outputs": [
        {
          "output_type": "stream",
          "name": "stdout",
          "text": [
            "cuda:0\n"
          ]
        }
      ],
      "source": [
        "DEVICE = \"cuda:0\" if torch.cuda.is_available() else \"cpu\"\n",
        "print(DEVICE)"
      ]
    },
    {
      "cell_type": "code",
      "execution_count": 16,
      "metadata": {
        "execution": {
          "iopub.execute_input": "2023-10-28T14:11:22.377985Z",
          "iopub.status.busy": "2023-10-28T14:11:22.377319Z",
          "iopub.status.idle": "2023-10-28T14:12:14.568627Z",
          "shell.execute_reply": "2023-10-28T14:12:14.567638Z",
          "shell.execute_reply.started": "2023-10-28T14:11:22.377955Z"
        },
        "id": "FIQyHM4Ph6Jz"
      },
      "outputs": [],
      "source": [
        "# model_name_or_path = \"TheBloke/Llama-2-13B-chat-GPTQ\"\n",
        "# model_basename = \"model\"\n",
        "\n",
        "# tokenizer = AutoTokenizer.from_pretrained(model_name_or_path, use_fast=True)\n",
        "\n",
        "# model = AutoGPTQForCausalLM.from_quantized(\n",
        "#     model_name_or_path,\n",
        "#     revision=\"gptq-4bit-128g-actorder_True\",\n",
        "#     model_basename=model_basename,\n",
        "#     use_safetensors=True,\n",
        "#     trust_remote_code=True,\n",
        "#     inject_fused_attention=False,\n",
        "#     device=DEVICE,\n",
        "#     quantize_config=None,\n",
        "# )"
      ]
    },
    {
      "cell_type": "code",
      "execution_count": 17,
      "metadata": {
        "execution": {
          "iopub.execute_input": "2023-10-28T14:12:18.249930Z",
          "iopub.status.busy": "2023-10-28T14:12:18.249663Z",
          "iopub.status.idle": "2023-10-28T14:12:18.261377Z",
          "shell.execute_reply": "2023-10-28T14:12:18.260662Z",
          "shell.execute_reply.started": "2023-10-28T14:12:18.249907Z"
        },
        "id": "iJinvB1Nh6Jz"
      },
      "outputs": [],
      "source": [
        "# streamer = TextStreamer(tokenizer, skip_prompt=True, skip_special_tokens=True)"
      ]
    },
    {
      "cell_type": "code",
      "execution_count": 18,
      "metadata": {
        "execution": {
          "iopub.execute_input": "2023-10-28T14:12:18.262522Z",
          "iopub.status.busy": "2023-10-28T14:12:18.262300Z",
          "iopub.status.idle": "2023-10-28T14:12:18.568938Z",
          "shell.execute_reply": "2023-10-28T14:12:18.568099Z",
          "shell.execute_reply.started": "2023-10-28T14:12:18.262502Z"
        },
        "id": "UsGbZB41h6Jz"
      },
      "outputs": [],
      "source": [
        "# pipe = pipeline(\n",
        "#     \"text-generation\",\n",
        "#     model=model,\n",
        "#     tokenizer=tokenizer,\n",
        "#     max_new_tokens=1024,\n",
        "#     temperature=0,\n",
        "#     top_p=0.95,\n",
        "#     repetition_penalty=1.15,\n",
        "#     streamer=streamer,\n",
        "# )\n",
        "\n",
        "# llm = HuggingFacePipeline(pipeline = pipe, model_kwargs={\"temperature\": 0})"
      ]
    },
    {
      "cell_type": "code",
      "execution_count": 37,
      "metadata": {
        "colab": {
          "base_uri": "https://localhost:8080/"
        },
        "id": "x-tHQQ7rh6J0",
        "outputId": "57a1fd3e-c04f-4add-e447-b5eb27490a8b"
      },
      "outputs": [
        {
          "output_type": "stream",
          "name": "stderr",
          "text": [
            "WARNING:langchain.llms.replicate:Init param `input` is deprecated, please use `model_kwargs` instead.\n"
          ]
        }
      ],
      "source": [
        "REPLICATE_API_TOKEN = \"r8_4o6DI4Kl9VfQdrVv6OlaqvAyMhFdamr2jUDVe\"\n",
        "os.environ[\"REPLICATE_API_TOKEN\"] = REPLICATE_API_TOKEN\n",
        "\n",
        "llm = Replicate(\n",
        "    model = \"replicate/llama-2-70b-chat:2796ee9483c3fd7aa2e171d38f4ca12251a30609463dcfd4cd76703f22e96cdf\",\n",
        "    input = {\"temperature\": 0.75, \"max_length\": 1024, \"top_p\": 0.95, \"repetition_penalty\": 1.15},\n",
        ")"
      ]
    },
    {
      "cell_type": "code",
      "execution_count": 35,
      "metadata": {
        "execution": {
          "iopub.execute_input": "2023-10-28T14:12:18.570367Z",
          "iopub.status.busy": "2023-10-28T14:12:18.570039Z",
          "iopub.status.idle": "2023-10-28T14:12:39.636360Z",
          "shell.execute_reply": "2023-10-28T14:12:39.635456Z",
          "shell.execute_reply.started": "2023-10-28T14:12:18.570335Z"
        },
        "colab": {
          "base_uri": "https://localhost:8080/",
          "height": 123
        },
        "id": "roYKXo6ph6J0",
        "outputId": "bf5023a4-1514-4b3b-e2fe-7f89e2771d19"
      },
      "outputs": [
        {
          "output_type": "stream",
          "name": "stdout",
          "text": [
            "CPU times: user 486 ms, sys: 51.3 ms, total: 537 ms\n",
            "Wall time: 1min 9s\n"
          ]
        },
        {
          "output_type": "execute_result",
          "data": {
            "text/plain": [
              "' Sure, I\\'d be happy to help! Here are five examples of cool potions and their effects:\\n\\n1. \"Elixir of Life\": This potion grants the player an extra life. When consumed, it will restore the player\\'s health to full and also grant them temporary invincibility for a short period of time.\\n2. \"Potion of Speed\": This potion increases the player\\'s movement speed for a short period of time. It\\'s useful for avoiding danger or chasing after enemies quickly.\\n3. \"Healing Potion\": This pot'"
            ],
            "application/vnd.google.colaboratory.intrinsic+json": {
              "type": "string"
            }
          },
          "metadata": {},
          "execution_count": 35
        }
      ],
      "source": [
        "%%time\n",
        "### testing model, not using the book yet\n",
        "### answer is not necessarily related to the book\n",
        "query = \"Give me 5 examples of cool potions and explain what they do\"\n",
        "llm(query)"
      ]
    },
    {
      "cell_type": "code",
      "execution_count": 21,
      "metadata": {
        "execution": {
          "iopub.execute_input": "2023-10-28T14:12:39.638031Z",
          "iopub.status.busy": "2023-10-28T14:12:39.637649Z",
          "iopub.status.idle": "2023-10-28T14:12:39.643264Z",
          "shell.execute_reply": "2023-10-28T14:12:39.642380Z",
          "shell.execute_reply.started": "2023-10-28T14:12:39.637996Z"
        },
        "id": "uhzvHuYPh6J0"
      },
      "outputs": [],
      "source": [
        "prompt_template = \"\"\"\n",
        "Don't try to make up an answer, if you don't know just say that you don't know.\n",
        "Answer in the same language the question was asked.\n",
        "Use only the following pieces of context to answer the question at the end.\n",
        "\n",
        "{context}\n",
        "\n",
        "Question: {question}\n",
        "Answer:\"\"\"\n",
        "\n",
        "\n",
        "PROMPT = PromptTemplate(\n",
        "    template = prompt_template,\n",
        "    input_variables = [\"context\", \"question\"]\n",
        ")"
      ]
    },
    {
      "cell_type": "code",
      "execution_count": 22,
      "metadata": {
        "execution": {
          "iopub.execute_input": "2023-10-28T14:12:39.644973Z",
          "iopub.status.busy": "2023-10-28T14:12:39.644618Z",
          "iopub.status.idle": "2023-10-28T14:12:39.655041Z",
          "shell.execute_reply": "2023-10-28T14:12:39.654304Z",
          "shell.execute_reply.started": "2023-10-28T14:12:39.644942Z"
        },
        "id": "PqO_cqIFh6J0"
      },
      "outputs": [],
      "source": [
        "def loadForEmbeddings(book_txt):\n",
        "    # load document\n",
        "    loader = TextLoader(book_txt, encoding=\"utf-8\")\n",
        "    documents = loader.load()\n",
        "\n",
        "    text_splitter = RecursiveCharacterTextSplitter(\n",
        "        chunk_size = 800,\n",
        "        chunk_overlap = 0\n",
        "    )\n",
        "\n",
        "    texts = text_splitter.split_documents(documents)\n",
        "    return texts\n"
      ]
    },
    {
      "cell_type": "code",
      "execution_count": 23,
      "metadata": {
        "execution": {
          "iopub.execute_input": "2023-10-28T14:12:39.656836Z",
          "iopub.status.busy": "2023-10-28T14:12:39.656479Z",
          "iopub.status.idle": "2023-10-28T14:12:39.666343Z",
          "shell.execute_reply": "2023-10-28T14:12:39.665492Z",
          "shell.execute_reply.started": "2023-10-28T14:12:39.656786Z"
        },
        "id": "fRxeJM6Fh6J0"
      },
      "outputs": [],
      "source": [
        "def wrap_text_preserve_newlines(text, width=200): # 110\n",
        "    # Split the input text into lines based on newline characters\n",
        "    lines = text.split('\\n')\n",
        "\n",
        "    # Wrap each line individually\n",
        "    wrapped_lines = [textwrap.fill(line, width=width) for line in lines]\n",
        "\n",
        "    # Join the wrapped lines back together using newline characters\n",
        "    wrapped_text = '\\n'.join(wrapped_lines)\n",
        "\n",
        "    return wrapped_text\n",
        "\n",
        "\n",
        "def process_llm_response(llm_response):\n",
        "    ans = wrap_text_preserve_newlines(llm_response['result'])\n",
        "\n",
        "    sources_used = llm_response['source_documents'][0].metadata['source']\n",
        "\n",
        "    ans = ans + '\\n\\nSources: \\n' + sources_used\n",
        "    return ans"
      ]
    },
    {
      "cell_type": "code",
      "execution_count": 24,
      "metadata": {
        "execution": {
          "iopub.execute_input": "2023-10-28T14:12:39.667560Z",
          "iopub.status.busy": "2023-10-28T14:12:39.667302Z",
          "iopub.status.idle": "2023-10-28T14:12:39.677957Z",
          "shell.execute_reply": "2023-10-28T14:12:39.677219Z",
          "shell.execute_reply.started": "2023-10-28T14:12:39.667538Z"
        },
        "id": "UxrBqIMLh6J0"
      },
      "outputs": [],
      "source": [
        "def llm_ans(query):\n",
        "    start = time.time()\n",
        "    qa_chain = RetrievalQA.from_chain_type(\n",
        "        llm = llm,\n",
        "        chain_type = \"stuff\", # map_reduce, map_rerank, stuff, refine\n",
        "        retriever = retriever,\n",
        "        chain_type_kwargs = {\"prompt\": PROMPT},\n",
        "        return_source_documents = True,\n",
        "        verbose = False\n",
        "    )\n",
        "    llm_response = qa_chain(query)\n",
        "    ans = process_llm_response(llm_response)\n",
        "    end = time.time()\n",
        "\n",
        "    time_elapsed = int(round(end - start, 0))\n",
        "    time_elapsed_str = f'\\n\\nTime elapsed: {time_elapsed} s'\n",
        "    return ans + time_elapsed_str"
      ]
    },
    {
      "cell_type": "code",
      "execution_count": 25,
      "metadata": {
        "execution": {
          "iopub.execute_input": "2023-10-28T14:12:39.679419Z",
          "iopub.status.busy": "2023-10-28T14:12:39.679118Z",
          "iopub.status.idle": "2023-10-28T14:12:39.918351Z",
          "shell.execute_reply": "2023-10-28T14:12:39.917536Z",
          "shell.execute_reply.started": "2023-10-28T14:12:39.679387Z"
        },
        "id": "yzsG9LZJh6J0"
      },
      "outputs": [],
      "source": [
        "import requests\n",
        "from bs4 import BeautifulSoup\n",
        "import difflib\n",
        "\n",
        "# Function to search for a book by name and return the best match URL\n",
        "def search_book_by_name(book_name):\n",
        "    base_url = \"https://www.gutenberg.org/\"\n",
        "    search_url = base_url + \"ebooks/search/?query=\" + book_name.replace(\" \", \"+\") + \"&submit_search=Go%21\"\n",
        "\n",
        "    response = requests.get(search_url)\n",
        "    soup = BeautifulSoup(response.content, \"html.parser\")\n",
        "\n",
        "    # Find the best match link based on similarity ratio\n",
        "    best_match_ratio = 0\n",
        "    best_match_url = \"\"\n",
        "\n",
        "    for link in soup.find_all(\"li\", class_=\"booklink\"):\n",
        "        link_title = link.find(\"span\", class_=\"title\").get_text()\n",
        "        similarity_ratio = difflib.SequenceMatcher(None, book_name.lower(), link_title.lower()).ratio()\n",
        "        if similarity_ratio > best_match_ratio:\n",
        "            best_match_ratio = similarity_ratio\n",
        "            best_match_url = base_url + link.find(\"a\").get(\"href\")\n",
        "\n",
        "    return best_match_url\n",
        "\n",
        "# Function to get the \"Plain Text UTF-8\" download link from the book page\n",
        "def get_plain_text_link(book_url):\n",
        "    response = requests.get(book_url)\n",
        "    soup = BeautifulSoup(response.content, \"html.parser\")\n",
        "\n",
        "    plain_text_link = \"\"\n",
        "\n",
        "    for row in soup.find_all(\"tr\"):\n",
        "        format_cell = row.find(\"td\", class_=\"unpadded icon_save\")\n",
        "        if format_cell and \"Plain Text UTF-8\" in format_cell.get_text():\n",
        "            plain_text_link = format_cell.find(\"a\").get(\"href\")\n",
        "            break\n",
        "\n",
        "    return plain_text_link\n",
        "\n",
        "\n",
        "# Function to get the content of the \"Plain Text UTF-8\" link\n",
        "def get_plain_text_content(plain_text_link):\n",
        "    response = requests.get(plain_text_link)\n",
        "    content = response.text\n",
        "    return content\n",
        "\n",
        "\n",
        "# Main function\n",
        "def load_book(book_name):\n",
        "    best_match_url = search_book_by_name(book_name)\n",
        "\n",
        "    if best_match_url:\n",
        "        plain_text_link = get_plain_text_link(best_match_url)\n",
        "        if plain_text_link:\n",
        "            full_plain_text_link = \"https://www.gutenberg.org\" + plain_text_link\n",
        "            plain_text_content = get_plain_text_content(full_plain_text_link)\n",
        "#             print(\"Plain Text UTF-8 content:\", plain_text_content)\n",
        "\n",
        "            book_text = plain_text_content\n",
        "\n",
        "            file = book_name + \".txt\"\n",
        "\n",
        "            # Remove the BOM character if it exists\n",
        "            book_text = book_text.lstrip('\\ufeff')\n",
        "\n",
        "            # Choose an appropriate encoding, such as 'utf-8'\n",
        "            with open(file, \"w\", encoding=\"utf-8\") as file:\n",
        "                file.write(book_text)\n",
        "\n",
        "            return book_text\n",
        "        else:\n",
        "            print(\"No Plain Text UTF-8 link found.\")\n",
        "            return \"web site error\"\n",
        "    else:\n",
        "        print(\"No matching book found.\")\n",
        "        return \"web site error\"\n",
        "\n",
        "# def clean_book_content(book_text):\n",
        "#     cleaned_book_text = book_text.replace(\"\\n\", \" \")\n",
        "#     cleaned_book_text = cleaned_book_text.replace(\"\\r\", \" \")\n",
        "#     cleaned_book_text = cleaned_book_text.replace(\"\\ufeff\", \"\")\n",
        "#     return cleaned_book_text"
      ]
    },
    {
      "cell_type": "code",
      "execution_count": null,
      "metadata": {
        "id": "ZYggoQXjh6J1"
      },
      "outputs": [],
      "source": [
        "# !rm -rf \"db\""
      ]
    },
    {
      "cell_type": "code",
      "execution_count": null,
      "metadata": {
        "id": "5pylDd6ch6J1"
      },
      "outputs": [],
      "source": [
        "# !pip install chromadb --progress-bar off"
      ]
    },
    {
      "cell_type": "code",
      "execution_count": 26,
      "metadata": {
        "id": "8JII7EbYh6J1"
      },
      "outputs": [],
      "source": [
        "# from langchain.vectorstores import Chroma\n",
        "# from langchain.embeddings.sentence_transformer import SentenceTransformerEmbeddings\n",
        "from langchain.vectorstores import FAISS"
      ]
    },
    {
      "cell_type": "code",
      "execution_count": 27,
      "metadata": {
        "execution": {
          "iopub.execute_input": "2023-10-28T14:29:10.477274Z",
          "iopub.status.busy": "2023-10-28T14:29:10.476902Z",
          "iopub.status.idle": "2023-10-28T14:29:21.882417Z",
          "shell.execute_reply": "2023-10-28T14:29:21.881620Z",
          "shell.execute_reply.started": "2023-10-28T14:29:10.477245Z"
        },
        "colab": {
          "base_uri": "https://localhost:8080/"
        },
        "id": "jlz5EKJzh6J1",
        "outputId": "461e1300-4c05-4663-e2a6-17a37def39c7"
      },
      "outputs": [
        {
          "output_type": "stream",
          "name": "stdout",
          "text": [
            "load INSTRUCTOR_Transformer\n",
            "max_seq_length  512\n"
          ]
        }
      ],
      "source": [
        "book_name = \"The prince\"\n",
        "book_text = load_book(book_name)\n",
        "file = book_name + \".txt\"\n",
        "texts = loadForEmbeddings(file)\n",
        "\n",
        "### download embeddings model\n",
        "instructor_embeddings = HuggingFaceInstructEmbeddings(\n",
        "        model_name = \"hkunlp/instructor-base\",\n",
        "        model_kwargs = {\"device\": \"cuda\"}\n",
        "    )\n",
        "# embeddings = SentenceTransformerEmbeddings(model_name=\"all-MiniLM-L6-v2\")\n",
        "\n",
        "# ### create embeddings and DB\n",
        "vectordb = FAISS.from_documents(\n",
        "    documents = texts,\n",
        "    embedding = instructor_embeddings\n",
        ")\n",
        "\n",
        "### persist vector database\n",
        "# vectordb.save_local(\"faiss_index_hp\")\n",
        "\n",
        "retriever = vectordb.as_retriever(search_kwargs = {\"k\": 3, \"search_type\" : \"similarity\"})"
      ]
    },
    {
      "cell_type": "code",
      "execution_count": null,
      "metadata": {
        "id": "SlOCQ5X9h6J2"
      },
      "outputs": [],
      "source": [
        "%%time\n",
        "# vectordb = Chroma.from_documents(texts, embeddings, persist_directory=\"db\")"
      ]
    },
    {
      "cell_type": "code",
      "execution_count": null,
      "metadata": {
        "id": "OIJSBm8rh6J2"
      },
      "outputs": [],
      "source": [
        "# # persistent_client = chromadb.PersistentClient(Configuration.Persist_directory)\n",
        "# print(\"Creating book embeddings...\")\n",
        "# # book_embeddings = Chroma(\n",
        "# #     collection_name=f\"BabblerEmbedding-{book_id}\",\n",
        "# #     embedding_function=embeddings,\n",
        "# #     client=persistent_client,\n",
        "# #     persist_directory=Configuration.Persist_directory,\n",
        "# # )\n",
        "# book_embeddings = Chroma(\n",
        "#     embedding_function=embeddings,\n",
        "# )"
      ]
    },
    {
      "cell_type": "code",
      "execution_count": null,
      "metadata": {
        "id": "2vQXBfowh6J2"
      },
      "outputs": [],
      "source": [
        "# book_embeddings.add_documents(documents=texts)"
      ]
    },
    {
      "cell_type": "code",
      "execution_count": null,
      "metadata": {
        "id": "Z82rUCwXh6J2"
      },
      "outputs": [],
      "source": [
        "# retriever = vectordb.as_retriever(search_kwargs = {\"k\": 3, \"search_type\" : \"similarity\"})"
      ]
    },
    {
      "cell_type": "code",
      "execution_count": 39,
      "metadata": {
        "execution": {
          "iopub.execute_input": "2023-10-28T14:29:27.848466Z",
          "iopub.status.busy": "2023-10-28T14:29:27.848101Z",
          "iopub.status.idle": "2023-10-28T14:29:29.508847Z",
          "shell.execute_reply": "2023-10-28T14:29:29.507972Z",
          "shell.execute_reply.started": "2023-10-28T14:29:27.848437Z"
        },
        "colab": {
          "base_uri": "https://localhost:8080/",
          "height": 123
        },
        "id": "vMEVKxsph6J3",
        "outputId": "68cc53b2-6037-492f-9449-bcd5c573521b"
      },
      "outputs": [
        {
          "output_type": "stream",
          "name": "stdout",
          "text": [
            "CPU times: user 137 ms, sys: 8.7 ms, total: 146 ms\n",
            "Wall time: 14.2 s\n"
          ]
        },
        {
          "output_type": "execute_result",
          "data": {
            "text/plain": [
              "' The characters mentioned in the passage are:\\n\\n* Zanobi\\n* Luigi\\n* The people who have performed great deeds in the world and excelled all others in their day\\n* Those who have been aggrieved by Fortune in some outrageous way\\n* The persons who have been exposed to the mercy of wild beasts\\n* The individuals who have given themselves out to be sons of Jove or of some other deity.\\n\\nSources: \\nThe prince.txt\\n\\nTime elapsed: 14 s'"
            ],
            "application/vnd.google.colaboratory.intrinsic+json": {
              "type": "string"
            }
          },
          "metadata": {},
          "execution_count": 39
        }
      ],
      "source": [
        "%%time\n",
        "llm_ans(\"What are the characters in this story\")"
      ]
    },
    {
      "cell_type": "code",
      "execution_count": 41,
      "metadata": {
        "execution": {
          "iopub.status.busy": "2023-10-28T14:12:41.904187Z",
          "iopub.status.idle": "2023-10-28T14:12:41.904632Z",
          "shell.execute_reply": "2023-10-28T14:12:41.904425Z",
          "shell.execute_reply.started": "2023-10-28T14:12:41.904403Z"
        },
        "colab": {
          "base_uri": "https://localhost:8080/"
        },
        "id": "1skgf9cIh6J3",
        "outputId": "d9d5d3ca-4fe5-44be-f8a0-03f7ae2a24c2"
      },
      "outputs": [
        {
          "output_type": "stream",
          "name": "stdout",
          "text": [
            "Collecting gradio\n",
            "  Downloading gradio-3.50.2-py3-none-any.whl (20.3 MB)\n",
            "\u001b[2K     \u001b[90m━━━━━━━━━━━━━━━━━━━━━━━━━━━━━━━━━━━━━━━━\u001b[0m \u001b[32m20.3/20.3 MB\u001b[0m \u001b[31m52.4 MB/s\u001b[0m eta \u001b[36m0:00:00\u001b[0m\n",
            "\u001b[?25hCollecting aiofiles<24.0,>=22.0 (from gradio)\n",
            "  Downloading aiofiles-23.2.1-py3-none-any.whl (15 kB)\n",
            "Requirement already satisfied: altair<6.0,>=4.2.0 in /usr/local/lib/python3.10/dist-packages (from gradio) (4.2.2)\n",
            "Requirement already satisfied: fastapi in /usr/local/lib/python3.10/dist-packages (from gradio) (0.104.0)\n",
            "Collecting ffmpy (from gradio)\n",
            "  Downloading ffmpy-0.3.1.tar.gz (5.5 kB)\n",
            "  Preparing metadata (setup.py) ... \u001b[?25l\u001b[?25hdone\n",
            "Collecting gradio-client==0.6.1 (from gradio)\n",
            "  Downloading gradio_client-0.6.1-py3-none-any.whl (299 kB)\n",
            "\u001b[2K     \u001b[90m━━━━━━━━━━━━━━━━━━━━━━━━━━━━━━━━━━━━━━━━\u001b[0m \u001b[32m299.2/299.2 kB\u001b[0m \u001b[31m30.3 MB/s\u001b[0m eta \u001b[36m0:00:00\u001b[0m\n",
            "\u001b[?25hRequirement already satisfied: httpx in /usr/local/lib/python3.10/dist-packages (from gradio) (0.25.0)\n",
            "Requirement already satisfied: huggingface-hub>=0.14.0 in /usr/local/lib/python3.10/dist-packages (from gradio) (0.17.3)\n",
            "Requirement already satisfied: importlib-resources<7.0,>=1.3 in /usr/local/lib/python3.10/dist-packages (from gradio) (6.1.0)\n",
            "Requirement already satisfied: jinja2<4.0 in /usr/local/lib/python3.10/dist-packages (from gradio) (3.1.2)\n",
            "Requirement already satisfied: markupsafe~=2.0 in /usr/local/lib/python3.10/dist-packages (from gradio) (2.1.3)\n",
            "Requirement already satisfied: matplotlib~=3.0 in /usr/local/lib/python3.10/dist-packages (from gradio) (3.7.1)\n",
            "Requirement already satisfied: numpy~=1.0 in /usr/local/lib/python3.10/dist-packages (from gradio) (1.23.5)\n",
            "Collecting orjson~=3.0 (from gradio)\n",
            "  Downloading orjson-3.9.10-cp310-cp310-manylinux_2_17_x86_64.manylinux2014_x86_64.whl (138 kB)\n",
            "\u001b[2K     \u001b[90m━━━━━━━━━━━━━━━━━━━━━━━━━━━━━━━━━━━━━━━━\u001b[0m \u001b[32m138.7/138.7 kB\u001b[0m \u001b[31m17.5 MB/s\u001b[0m eta \u001b[36m0:00:00\u001b[0m\n",
            "\u001b[?25hRequirement already satisfied: packaging in /usr/local/lib/python3.10/dist-packages (from gradio) (23.2)\n",
            "Requirement already satisfied: pandas<3.0,>=1.0 in /usr/local/lib/python3.10/dist-packages (from gradio) (1.5.3)\n",
            "Requirement already satisfied: pillow<11.0,>=8.0 in /usr/local/lib/python3.10/dist-packages (from gradio) (9.4.0)\n",
            "Requirement already satisfied: pydantic!=1.8,!=1.8.1,!=2.0.0,!=2.0.1,<3.0.0,>=1.7.4 in /usr/local/lib/python3.10/dist-packages (from gradio) (1.10.13)\n",
            "Collecting pydub (from gradio)\n",
            "  Downloading pydub-0.25.1-py2.py3-none-any.whl (32 kB)\n",
            "Collecting python-multipart (from gradio)\n",
            "  Downloading python_multipart-0.0.6-py3-none-any.whl (45 kB)\n",
            "\u001b[2K     \u001b[90m━━━━━━━━━━━━━━━━━━━━━━━━━━━━━━━━━━━━━━━━\u001b[0m \u001b[32m45.7/45.7 kB\u001b[0m \u001b[31m6.2 MB/s\u001b[0m eta \u001b[36m0:00:00\u001b[0m\n",
            "\u001b[?25hRequirement already satisfied: pyyaml<7.0,>=5.0 in /usr/local/lib/python3.10/dist-packages (from gradio) (6.0.1)\n",
            "Requirement already satisfied: requests~=2.0 in /usr/local/lib/python3.10/dist-packages (from gradio) (2.31.0)\n",
            "Collecting semantic-version~=2.0 (from gradio)\n",
            "  Downloading semantic_version-2.10.0-py2.py3-none-any.whl (15 kB)\n",
            "Requirement already satisfied: typing-extensions~=4.0 in /usr/local/lib/python3.10/dist-packages (from gradio) (4.8.0)\n",
            "Requirement already satisfied: uvicorn>=0.14.0 in /usr/local/lib/python3.10/dist-packages (from gradio) (0.23.2)\n",
            "Collecting websockets<12.0,>=10.0 (from gradio)\n",
            "  Downloading websockets-11.0.3-cp310-cp310-manylinux_2_5_x86_64.manylinux1_x86_64.manylinux_2_17_x86_64.manylinux2014_x86_64.whl (129 kB)\n",
            "\u001b[2K     \u001b[90m━━━━━━━━━━━━━━━━━━━━━━━━━━━━━━━━━━━━━━━━\u001b[0m \u001b[32m129.9/129.9 kB\u001b[0m \u001b[31m19.6 MB/s\u001b[0m eta \u001b[36m0:00:00\u001b[0m\n",
            "\u001b[?25hRequirement already satisfied: fsspec in /usr/local/lib/python3.10/dist-packages (from gradio-client==0.6.1->gradio) (2023.6.0)\n",
            "Requirement already satisfied: entrypoints in /usr/local/lib/python3.10/dist-packages (from altair<6.0,>=4.2.0->gradio) (0.4)\n",
            "Requirement already satisfied: jsonschema>=3.0 in /usr/local/lib/python3.10/dist-packages (from altair<6.0,>=4.2.0->gradio) (4.19.1)\n",
            "Requirement already satisfied: toolz in /usr/local/lib/python3.10/dist-packages (from altair<6.0,>=4.2.0->gradio) (0.12.0)\n",
            "Requirement already satisfied: filelock in /usr/local/lib/python3.10/dist-packages (from huggingface-hub>=0.14.0->gradio) (3.12.4)\n",
            "Requirement already satisfied: tqdm>=4.42.1 in /usr/local/lib/python3.10/dist-packages (from huggingface-hub>=0.14.0->gradio) (4.66.1)\n",
            "Requirement already satisfied: contourpy>=1.0.1 in /usr/local/lib/python3.10/dist-packages (from matplotlib~=3.0->gradio) (1.1.1)\n",
            "Requirement already satisfied: cycler>=0.10 in /usr/local/lib/python3.10/dist-packages (from matplotlib~=3.0->gradio) (0.12.1)\n",
            "Requirement already satisfied: fonttools>=4.22.0 in /usr/local/lib/python3.10/dist-packages (from matplotlib~=3.0->gradio) (4.43.1)\n",
            "Requirement already satisfied: kiwisolver>=1.0.1 in /usr/local/lib/python3.10/dist-packages (from matplotlib~=3.0->gradio) (1.4.5)\n",
            "Requirement already satisfied: pyparsing>=2.3.1 in /usr/local/lib/python3.10/dist-packages (from matplotlib~=3.0->gradio) (3.1.1)\n",
            "Requirement already satisfied: python-dateutil>=2.7 in /usr/local/lib/python3.10/dist-packages (from matplotlib~=3.0->gradio) (2.8.2)\n",
            "Requirement already satisfied: pytz>=2020.1 in /usr/local/lib/python3.10/dist-packages (from pandas<3.0,>=1.0->gradio) (2023.3.post1)\n",
            "Requirement already satisfied: charset-normalizer<4,>=2 in /usr/local/lib/python3.10/dist-packages (from requests~=2.0->gradio) (3.3.1)\n",
            "Requirement already satisfied: idna<4,>=2.5 in /usr/local/lib/python3.10/dist-packages (from requests~=2.0->gradio) (3.4)\n",
            "Requirement already satisfied: urllib3<3,>=1.21.1 in /usr/local/lib/python3.10/dist-packages (from requests~=2.0->gradio) (1.26.18)\n",
            "Requirement already satisfied: certifi>=2017.4.17 in /usr/local/lib/python3.10/dist-packages (from requests~=2.0->gradio) (2023.7.22)\n",
            "Requirement already satisfied: click>=7.0 in /usr/local/lib/python3.10/dist-packages (from uvicorn>=0.14.0->gradio) (8.1.7)\n",
            "Requirement already satisfied: h11>=0.8 in /usr/local/lib/python3.10/dist-packages (from uvicorn>=0.14.0->gradio) (0.14.0)\n",
            "Requirement already satisfied: anyio<4.0.0,>=3.7.1 in /usr/local/lib/python3.10/dist-packages (from fastapi->gradio) (3.7.1)\n",
            "Requirement already satisfied: starlette<0.28.0,>=0.27.0 in /usr/local/lib/python3.10/dist-packages (from fastapi->gradio) (0.27.0)\n",
            "Requirement already satisfied: httpcore<0.19.0,>=0.18.0 in /usr/local/lib/python3.10/dist-packages (from httpx->gradio) (0.18.0)\n",
            "Requirement already satisfied: sniffio in /usr/local/lib/python3.10/dist-packages (from httpx->gradio) (1.3.0)\n",
            "Requirement already satisfied: exceptiongroup in /usr/local/lib/python3.10/dist-packages (from anyio<4.0.0,>=3.7.1->fastapi->gradio) (1.1.3)\n",
            "Requirement already satisfied: attrs>=22.2.0 in /usr/local/lib/python3.10/dist-packages (from jsonschema>=3.0->altair<6.0,>=4.2.0->gradio) (23.1.0)\n",
            "Requirement already satisfied: jsonschema-specifications>=2023.03.6 in /usr/local/lib/python3.10/dist-packages (from jsonschema>=3.0->altair<6.0,>=4.2.0->gradio) (2023.7.1)\n",
            "Requirement already satisfied: referencing>=0.28.4 in /usr/local/lib/python3.10/dist-packages (from jsonschema>=3.0->altair<6.0,>=4.2.0->gradio) (0.30.2)\n",
            "Requirement already satisfied: rpds-py>=0.7.1 in /usr/local/lib/python3.10/dist-packages (from jsonschema>=3.0->altair<6.0,>=4.2.0->gradio) (0.10.6)\n",
            "Requirement already satisfied: six>=1.5 in /usr/local/lib/python3.10/dist-packages (from python-dateutil>=2.7->matplotlib~=3.0->gradio) (1.16.0)\n",
            "Building wheels for collected packages: ffmpy\n",
            "  Building wheel for ffmpy (setup.py) ... \u001b[?25l\u001b[?25hdone\n",
            "  Created wheel for ffmpy: filename=ffmpy-0.3.1-py3-none-any.whl size=5579 sha256=a5c63c24eea10535efea0b2482afd149f2b5392cdcd0791a359c261b6e89cabb\n",
            "  Stored in directory: /root/.cache/pip/wheels/01/a6/d1/1c0828c304a4283b2c1639a09ad86f83d7c487ef34c6b4a1bf\n",
            "Successfully built ffmpy\n",
            "Installing collected packages: pydub, ffmpy, websockets, semantic-version, python-multipart, orjson, aiofiles, gradio-client, gradio\n",
            "  Attempting uninstall: websockets\n",
            "    Found existing installation: websockets 12.0\n",
            "    Uninstalling websockets-12.0:\n",
            "      Successfully uninstalled websockets-12.0\n",
            "\u001b[31mERROR: pip's dependency resolver does not currently take into account all the packages that are installed. This behaviour is the source of the following dependency conflicts.\n",
            "lida 0.0.10 requires kaleido, which is not installed.\u001b[0m\u001b[31m\n",
            "\u001b[0mSuccessfully installed aiofiles-23.2.1 ffmpy-0.3.1 gradio-3.50.2 gradio-client-0.6.1 orjson-3.9.10 pydub-0.25.1 python-multipart-0.0.6 semantic-version-2.10.0 websockets-11.0.3\n"
          ]
        }
      ],
      "source": [
        "pip install gradio"
      ]
    },
    {
      "cell_type": "code",
      "execution_count": 42,
      "metadata": {
        "execution": {
          "iopub.status.busy": "2023-10-28T14:12:41.906023Z",
          "iopub.status.idle": "2023-10-28T14:12:41.906514Z",
          "shell.execute_reply": "2023-10-28T14:12:41.906288Z",
          "shell.execute_reply.started": "2023-10-28T14:12:41.906265Z"
        },
        "colab": {
          "base_uri": "https://localhost:8080/",
          "height": 646
        },
        "id": "E16667Hvh6J3",
        "outputId": "a3ed80ed-6c46-4421-bad0-f0bf18e11b1d"
      },
      "outputs": [
        {
          "output_type": "stream",
          "name": "stdout",
          "text": [
            "Setting queue=True in a Colab notebook requires sharing enabled. Setting `share=True` (you can turn this off by setting `share=False` in `launch()` explicitly).\n",
            "\n",
            "Colab notebook detected. To show errors in colab notebook, set debug=True in launch()\n",
            "Running on public URL: https://d42218ab8867e52f4f.gradio.live\n",
            "\n",
            "This share link expires in 72 hours. For free permanent hosting and GPU upgrades, run `gradio deploy` from Terminal to deploy to Spaces (https://huggingface.co/spaces)\n"
          ]
        },
        {
          "output_type": "display_data",
          "data": {
            "text/plain": [
              "<IPython.core.display.HTML object>"
            ],
            "text/html": [
              "<div><iframe src=\"https://d42218ab8867e52f4f.gradio.live\" width=\"100%\" height=\"500\" allow=\"autoplay; camera; microphone; clipboard-read; clipboard-write;\" frameborder=\"0\" allowfullscreen></iframe></div>"
            ]
          },
          "metadata": {}
        },
        {
          "output_type": "execute_result",
          "data": {
            "text/plain": []
          },
          "metadata": {},
          "execution_count": 42
        }
      ],
      "source": [
        "import gradio as gr\n",
        "\n",
        "title = \"GutenbergChat Hub\"\n",
        "vectordb = None\n",
        "retriever = None\n",
        "\n",
        "# Submit book\n",
        "def submit_book(book_name):\n",
        "    global vectordb, retriever, instructor_embeddings\n",
        "    if not book_name:\n",
        "        return \"Please enter the name of the book.\"\n",
        "\n",
        "    book_text = load_book(book_name)\n",
        "    file = book_name + \".txt\"\n",
        "    texts = loadForEmbeddings(file)\n",
        "\n",
        "    # ### download embeddings model\n",
        "    # instructor_embeddings = HuggingFaceInstructEmbeddings(\n",
        "    #     model_name = 'hkunlp/instructor-base',\n",
        "    #     model_kwargs = {\"device\": \"cuda\"}\n",
        "    # )\n",
        "\n",
        "    ### create embeddings and DB\n",
        "    vectordb = FAISS.from_documents(\n",
        "        documents = texts,\n",
        "        embedding = instructor_embeddings\n",
        "    )\n",
        "\n",
        "    # ### persist vector database\n",
        "    # vectordb.save_local(\"faiss_index_hp\")\n",
        "\n",
        "    retriever = vectordb.as_retriever(search_kwargs = {\"k\": 3, \"search_type\" : \"similarity\"})\n",
        "\n",
        "\n",
        "    return \"done\"\n",
        "\n",
        "\n",
        "# Q/A\n",
        "def get_response(prompt):\n",
        "#     if (not book_name and not prompt):\n",
        "#         return \"Please enter the name of the book and the prompt.\"\n",
        "#     if not book_name:\n",
        "#         return \"Please enter the name of the book.\"\n",
        "#     if not prompt:\n",
        "#         return \"Please enter the prompt.\"\n",
        "    query = prompt\n",
        "#     llm_response = qa_chain(query)\n",
        "\n",
        "    return llm_ans(query)\n",
        "\n",
        "# Interface 1\n",
        "submitBook = gr.Interface(fn=submit_book, inputs=\"text\", outputs=\"text\", title=\"Submit your book here first\")\n",
        "# Interface 2\n",
        "chatBot = gr.Interface(\n",
        "        fn=get_response,\n",
        "        inputs=\"text\",\n",
        "        outputs=\"text\",\n",
        "        title=title + \" - Q/A-Bot\",\n",
        "        description=\"Enter the name of the book in previous tab, then ask questions here\",\n",
        "        examples=[\"What are the characters in the book?\"]\n",
        "    )\n",
        "\n",
        "demo = gr.TabbedInterface([submitBook, chatBot], [\"SubmitBook\", \"Q/A-Bot\"])\n",
        "demo.launch()"
      ]
    }
  ],
  "metadata": {
    "kernelspec": {
      "display_name": "Python 3",
      "name": "python3"
    },
    "language_info": {
      "codemirror_mode": {
        "name": "ipython",
        "version": 3
      },
      "file_extension": ".py",
      "mimetype": "text/x-python",
      "name": "python",
      "nbconvert_exporter": "python",
      "pygments_lexer": "ipython3",
      "version": "3.11.5"
    },
    "colab": {
      "provenance": [],
      "gpuType": "T4"
    },
    "accelerator": "GPU"
  },
  "nbformat": 4,
  "nbformat_minor": 0
}